{
 "cells": [
  {
   "cell_type": "code",
   "execution_count": 13,
   "metadata": {},
   "outputs": [],
   "source": [
    "import numpy as np\n",
    "import matplotlib.pyplot as plt\n",
    "import seaborn as sns\n",
    "\n",
    "sns.set_theme(style=\"whitegrid\")"
   ]
  },
  {
   "cell_type": "code",
   "execution_count": 14,
   "metadata": {},
   "outputs": [
    {
     "name": "stdout",
     "output_type": "stream",
     "text": [
      "Data loaded. Shape: (1000,)\n"
     ]
    }
   ],
   "source": [
    "def load_em_data(filepath):\n",
    "    \"\"\"\n",
    "    Load dataset for the EM algorithm.\n",
    "    \n",
    "    Parameters:\n",
    "        filepath (str): Path to the dataset file.\n",
    "        \n",
    "    Returns:\n",
    "        np.ndarray: 1D array of number of children in families.\n",
    "    \"\"\"\n",
    "    return np.loadtxt(filepath)\n",
    "\n",
    "# Load the dataset\n",
    "em_data = load_em_data(\"em_data.txt\")\n",
    "# em_data = load_em_data(\"em_data_online.txt\")\n",
    "print(f\"Data loaded. Shape: {em_data.shape}\")"
   ]
  },
  {
   "cell_type": "code",
   "execution_count": 15,
   "metadata": {},
   "outputs": [],
   "source": [
    "def initialize_parameters():\n",
    "    \"\"\"\n",
    "    Initialize parameters for the EM algorithm.\n",
    "    \n",
    "    Returns:\n",
    "        tuple: Initial mean and proportion estimates.\n",
    "    \"\"\"\n",
    "    # Initial guesses for means and proportions\n",
    "    mean_with_planning = 2.0\n",
    "    mean_without_planning = 5.0\n",
    "    proportion_with_planning = 0.5\n",
    "    proportion_without_planning = 0.5\n",
    "    \n",
    "    return mean_with_planning, mean_without_planning, proportion_with_planning, proportion_without_planning\n",
    "\n",
    "# Initialize parameters\n",
    "mu1, mu2, pi1, pi2 = initialize_parameters()"
   ]
  },
  {
   "cell_type": "code",
   "execution_count": 16,
   "metadata": {},
   "outputs": [],
   "source": [
    "from scipy.special import factorial  # Import vectorized factorial function\n",
    "\n",
    "def em_algorithm(data, tol=1e-6, max_iter=100):\n",
    "    \"\"\"\n",
    "    Perform the Expectation-Maximization (EM) algorithm for Poisson mixture model.\n",
    "    \n",
    "    Parameters:\n",
    "        data (np.ndarray): 1D array of data points.\n",
    "        tol (float): Convergence tolerance.\n",
    "        max_iter (int): Maximum number of iterations.\n",
    "        \n",
    "    Returns:\n",
    "        tuple: Estimated parameters (mean_with_planning, mean_without_planning,\n",
    "               proportion_with_planning, proportion_without_planning).\n",
    "    \"\"\"\n",
    "    # Initialize parameters\n",
    "    mu1, mu2, pi1, pi2 = initialize_parameters()\n",
    "    \n",
    "    n = len(data)\n",
    "    log_likelihoods = []\n",
    "    \n",
    "    for iteration in range(max_iter):\n",
    "        # E-step: Compute responsibilities\n",
    "        r1 = pi1 * np.exp(-mu1) * (mu1**data) / factorial(data)\n",
    "        r2 = pi2 * np.exp(-mu2) * (mu2**data) / factorial(data)\n",
    "        total_responsibility = r1 + r2\n",
    "        \n",
    "        r1 /= total_responsibility\n",
    "        r2 /= total_responsibility\n",
    "        \n",
    "        # M-step: Update parameters\n",
    "        pi1 = np.mean(r1)\n",
    "        pi2 = 1 - pi1\n",
    "        \n",
    "        mu1 = np.sum(r1 * data) / np.sum(r1)\n",
    "        mu2 = np.sum(r2 * data) / np.sum(r2)\n",
    "        \n",
    "        # Compute log-likelihood\n",
    "        log_likelihood = np.sum(np.log(total_responsibility))\n",
    "        log_likelihoods.append(log_likelihood)\n",
    "        \n",
    "        # Check for convergence\n",
    "        if iteration > 0 and abs(log_likelihoods[-1] - log_likelihoods[-2]) < tol:\n",
    "            print(f\"Converged after {iteration} iterations.\")\n",
    "            break\n",
    "            \n",
    "    return mu1, mu2, pi1, pi2, log_likelihoods\n",
    "\n",
    "# Run EM algorithm\n",
    "mean_with, mean_without, prop_with, prop_without, log_likelihoods = em_algorithm(em_data)\n"
   ]
  },
  {
   "cell_type": "code",
   "execution_count": 17,
   "metadata": {},
   "outputs": [
    {
     "name": "stdout",
     "output_type": "stream",
     "text": [
      "Mean number of children (with family planning): 1.78\n",
      "Mean number of children (without family planning): 4.91\n",
      "Proportion of families (with family planning): 0.36\n",
      "Proportion of families (without family planning): 0.64\n"
     ]
    }
   ],
   "source": [
    "def print_em_results(mean_with, mean_without, prop_with, prop_without):\n",
    "    \"\"\"\n",
    "    Print the results of the EM algorithm.\n",
    "    \n",
    "    Parameters:\n",
    "        mean_with (float): Mean number of children in families with family planning.\n",
    "        mean_without (float): Mean number of children in families without family planning.\n",
    "        prop_with (float): Proportion of families with family planning.\n",
    "        prop_without (float): Proportion of families without family planning.\n",
    "    \"\"\"\n",
    "    print(f\"Mean number of children (with family planning): {mean_with:.2f}\")\n",
    "    print(f\"Mean number of children (without family planning): {mean_without:.2f}\")\n",
    "    print(f\"Proportion of families (with family planning): {prop_with:.2f}\")\n",
    "    print(f\"Proportion of families (without family planning): {prop_without:.2f}\")\n",
    "\n",
    "# Print results\n",
    "print_em_results(mean_with, mean_without, prop_with, prop_without)\n"
   ]
  },
  {
   "cell_type": "code",
   "execution_count": 18,
   "metadata": {},
   "outputs": [
    {
     "data": {
      "image/png": "[encoded data removed]",
      "text/plain": [
       "<Figure size 800x600 with 1 Axes>"
      ]
     },
     "metadata": {},
     "output_type": "display_data"
    }
   ],
   "source": [
    "def plot_log_likelihood(log_likelihoods):\n",
    "    \"\"\"\n",
    "    Plot the log-likelihood progression over iterations.\n",
    "    \n",
    "    Parameters:\n",
    "        log_likelihoods (list): Log-likelihood values at each iteration.\n",
    "    \"\"\"\n",
    "    plt.figure(figsize=(8, 6))\n",
    "    plt.plot(log_likelihoods, marker='o')\n",
    "    plt.title(\"Log-Likelihood Progression\")\n",
    "    plt.xlabel(\"Iteration\")\n",
    "    plt.ylabel(\"Log-Likelihood\")\n",
    "    plt.grid(True)\n",
    "    plt.show()\n",
    "\n",
    "# Plot log-likelihood\n",
    "plot_log_likelihood(log_likelihoods)"
   ]
  },
  {
   "cell_type": "code",
   "execution_count": null,
   "metadata": {},
   "outputs": [],
   "source": []
  }
 ],
 "metadata": {
  "kernelspec": {
   "display_name": "ml",
   "language": "python",
   "name": "python3"
  },
  "language_info": {
   "codemirror_mode": {
    "name": "ipython",
    "version": 3
   },
   "file_extension": ".py",
   "mimetype": "text/x-python",
   "name": "python",
   "nbconvert_exporter": "python",
   "pygments_lexer": "ipython3",
   "version": "3.12.2"
  }
 },
 "nbformat": 4,
 "nbformat_minor": 2
}
